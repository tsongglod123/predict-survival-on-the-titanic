{
 "cells": [
  {
   "cell_type": "code",
   "execution_count": 1,
   "id": "537cec8c",
   "metadata": {
    "_cell_guid": "b1076dfc-b9ad-4769-8c92-a6c4dae69d19",
    "_uuid": "8f2839f25d086af736a60e9eeb907d3b93b6e0e5",
    "execution": {
     "iopub.execute_input": "2023-01-29T10:55:51.192731Z",
     "iopub.status.busy": "2023-01-29T10:55:51.191875Z",
     "iopub.status.idle": "2023-01-29T10:55:52.294442Z",
     "shell.execute_reply": "2023-01-29T10:55:52.292236Z"
    },
    "papermill": {
     "duration": 1.11909,
     "end_time": "2023-01-29T10:55:52.297268",
     "exception": false,
     "start_time": "2023-01-29T10:55:51.178178",
     "status": "completed"
    },
    "tags": []
   },
   "outputs": [
    {
     "name": "stdout",
     "output_type": "stream",
     "text": [
      "/kaggle/input/titanic/train.csv\n",
      "/kaggle/input/titanic/test.csv\n",
      "/kaggle/input/titanic/gender_submission.csv\n"
     ]
    }
   ],
   "source": [
    "# This Python 3 environment comes with many helpful analytics libraries installed\n",
    "# It is defined by the kaggle/python Docker image: https://github.com/kaggle/docker-python\n",
    "# For example, here's several helpful packages to load\n",
    "\n",
    "import numpy as np # linear algebra\n",
    "import pandas as pd # data processing, CSV file I/O (e.g. pd.read_csv)\n",
    "import seaborn as sns\n",
    "\n",
    "# Input data files are available in the read-only \"../input/\" directory\n",
    "# For example, running this (by clicking run or pressing Shift+Enter) will list all files under the input directory\n",
    "\n",
    "import os\n",
    "for dirname, _, filenames in os.walk(\"/kaggle/input\"):\n",
    "    for filename in filenames:\n",
    "        print(os.path.join(dirname, filename))\n",
    "\n",
    "# You can write up to 20GB to the current directory (/kaggle/working/) that gets preserved as output when you create a version using \"Save & Run All\" \n",
    "# You can also write temporary files to /kaggle/temp/, but they won't be saved outside of the current session"
   ]
  },
  {
   "cell_type": "markdown",
   "id": "52a542b9",
   "metadata": {
    "papermill": {
     "duration": 0.010091,
     "end_time": "2023-01-29T10:55:52.318116",
     "exception": false,
     "start_time": "2023-01-29T10:55:52.308025",
     "status": "completed"
    },
    "tags": []
   },
   "source": [
    "# Import dataset\n",
    "there are 2 datasets\n",
    "* train.csv\n",
    "* test.csv"
   ]
  },
  {
   "cell_type": "code",
   "execution_count": 2,
   "id": "a2bf95f2",
   "metadata": {
    "execution": {
     "iopub.execute_input": "2023-01-29T10:55:52.342355Z",
     "iopub.status.busy": "2023-01-29T10:55:52.341863Z",
     "iopub.status.idle": "2023-01-29T10:55:52.378772Z",
     "shell.execute_reply": "2023-01-29T10:55:52.377482Z"
    },
    "papermill": {
     "duration": 0.052637,
     "end_time": "2023-01-29T10:55:52.382099",
     "exception": false,
     "start_time": "2023-01-29T10:55:52.329462",
     "status": "completed"
    },
    "tags": []
   },
   "outputs": [],
   "source": [
    "train_path = \"/kaggle/input/titanic/train.csv\"\n",
    "test_path = \"/kaggle/input/titanic/test.csv\"\n",
    "\n",
    "df_train = pd.read_csv(train_path)\n",
    "df_test = pd.read_csv(test_path)"
   ]
  },
  {
   "cell_type": "markdown",
   "id": "3d971cc4",
   "metadata": {
    "papermill": {
     "duration": 0.009757,
     "end_time": "2023-01-29T10:55:52.404030",
     "exception": false,
     "start_time": "2023-01-29T10:55:52.394273",
     "status": "completed"
    },
    "tags": []
   },
   "source": [
    "# Inspect the data"
   ]
  },
  {
   "cell_type": "markdown",
   "id": "c5439223",
   "metadata": {
    "papermill": {
     "duration": 0.009906,
     "end_time": "2023-01-29T10:55:52.423868",
     "exception": false,
     "start_time": "2023-01-29T10:55:52.413962",
     "status": "completed"
    },
    "tags": []
   },
   "source": [
    "## train dataset"
   ]
  },
  {
   "cell_type": "code",
   "execution_count": 3,
   "id": "fe7f6a98",
   "metadata": {
    "execution": {
     "iopub.execute_input": "2023-01-29T10:55:52.446801Z",
     "iopub.status.busy": "2023-01-29T10:55:52.445444Z",
     "iopub.status.idle": "2023-01-29T10:55:52.472495Z",
     "shell.execute_reply": "2023-01-29T10:55:52.471379Z"
    },
    "papermill": {
     "duration": 0.041165,
     "end_time": "2023-01-29T10:55:52.475092",
     "exception": false,
     "start_time": "2023-01-29T10:55:52.433927",
     "status": "completed"
    },
    "tags": []
   },
   "outputs": [
    {
     "data": {
      "text/html": [
       "<div>\n",
       "<style scoped>\n",
       "    .dataframe tbody tr th:only-of-type {\n",
       "        vertical-align: middle;\n",
       "    }\n",
       "\n",
       "    .dataframe tbody tr th {\n",
       "        vertical-align: top;\n",
       "    }\n",
       "\n",
       "    .dataframe thead th {\n",
       "        text-align: right;\n",
       "    }\n",
       "</style>\n",
       "<table border=\"1\" class=\"dataframe\">\n",
       "  <thead>\n",
       "    <tr style=\"text-align: right;\">\n",
       "      <th></th>\n",
       "      <th>PassengerId</th>\n",
       "      <th>Survived</th>\n",
       "      <th>Pclass</th>\n",
       "      <th>Name</th>\n",
       "      <th>Sex</th>\n",
       "      <th>Age</th>\n",
       "      <th>SibSp</th>\n",
       "      <th>Parch</th>\n",
       "      <th>Ticket</th>\n",
       "      <th>Fare</th>\n",
       "      <th>Cabin</th>\n",
       "      <th>Embarked</th>\n",
       "    </tr>\n",
       "  </thead>\n",
       "  <tbody>\n",
       "    <tr>\n",
       "      <th>0</th>\n",
       "      <td>1</td>\n",
       "      <td>0</td>\n",
       "      <td>3</td>\n",
       "      <td>Braund, Mr. Owen Harris</td>\n",
       "      <td>male</td>\n",
       "      <td>22.0</td>\n",
       "      <td>1</td>\n",
       "      <td>0</td>\n",
       "      <td>A/5 21171</td>\n",
       "      <td>7.2500</td>\n",
       "      <td>NaN</td>\n",
       "      <td>S</td>\n",
       "    </tr>\n",
       "    <tr>\n",
       "      <th>1</th>\n",
       "      <td>2</td>\n",
       "      <td>1</td>\n",
       "      <td>1</td>\n",
       "      <td>Cumings, Mrs. John Bradley (Florence Briggs Th...</td>\n",
       "      <td>female</td>\n",
       "      <td>38.0</td>\n",
       "      <td>1</td>\n",
       "      <td>0</td>\n",
       "      <td>PC 17599</td>\n",
       "      <td>71.2833</td>\n",
       "      <td>C85</td>\n",
       "      <td>C</td>\n",
       "    </tr>\n",
       "    <tr>\n",
       "      <th>2</th>\n",
       "      <td>3</td>\n",
       "      <td>1</td>\n",
       "      <td>3</td>\n",
       "      <td>Heikkinen, Miss. Laina</td>\n",
       "      <td>female</td>\n",
       "      <td>26.0</td>\n",
       "      <td>0</td>\n",
       "      <td>0</td>\n",
       "      <td>STON/O2. 3101282</td>\n",
       "      <td>7.9250</td>\n",
       "      <td>NaN</td>\n",
       "      <td>S</td>\n",
       "    </tr>\n",
       "    <tr>\n",
       "      <th>3</th>\n",
       "      <td>4</td>\n",
       "      <td>1</td>\n",
       "      <td>1</td>\n",
       "      <td>Futrelle, Mrs. Jacques Heath (Lily May Peel)</td>\n",
       "      <td>female</td>\n",
       "      <td>35.0</td>\n",
       "      <td>1</td>\n",
       "      <td>0</td>\n",
       "      <td>113803</td>\n",
       "      <td>53.1000</td>\n",
       "      <td>C123</td>\n",
       "      <td>S</td>\n",
       "    </tr>\n",
       "    <tr>\n",
       "      <th>4</th>\n",
       "      <td>5</td>\n",
       "      <td>0</td>\n",
       "      <td>3</td>\n",
       "      <td>Allen, Mr. William Henry</td>\n",
       "      <td>male</td>\n",
       "      <td>35.0</td>\n",
       "      <td>0</td>\n",
       "      <td>0</td>\n",
       "      <td>373450</td>\n",
       "      <td>8.0500</td>\n",
       "      <td>NaN</td>\n",
       "      <td>S</td>\n",
       "    </tr>\n",
       "  </tbody>\n",
       "</table>\n",
       "</div>"
      ],
      "text/plain": [
       "   PassengerId  Survived  Pclass  \\\n",
       "0            1         0       3   \n",
       "1            2         1       1   \n",
       "2            3         1       3   \n",
       "3            4         1       1   \n",
       "4            5         0       3   \n",
       "\n",
       "                                                Name     Sex   Age  SibSp  \\\n",
       "0                            Braund, Mr. Owen Harris    male  22.0      1   \n",
       "1  Cumings, Mrs. John Bradley (Florence Briggs Th...  female  38.0      1   \n",
       "2                             Heikkinen, Miss. Laina  female  26.0      0   \n",
       "3       Futrelle, Mrs. Jacques Heath (Lily May Peel)  female  35.0      1   \n",
       "4                           Allen, Mr. William Henry    male  35.0      0   \n",
       "\n",
       "   Parch            Ticket     Fare Cabin Embarked  \n",
       "0      0         A/5 21171   7.2500   NaN        S  \n",
       "1      0          PC 17599  71.2833   C85        C  \n",
       "2      0  STON/O2. 3101282   7.9250   NaN        S  \n",
       "3      0            113803  53.1000  C123        S  \n",
       "4      0            373450   8.0500   NaN        S  "
      ]
     },
     "execution_count": 3,
     "metadata": {},
     "output_type": "execute_result"
    }
   ],
   "source": [
    "df_train.head()"
   ]
  },
  {
   "cell_type": "code",
   "execution_count": 4,
   "id": "9b5c2b2a",
   "metadata": {
    "execution": {
     "iopub.execute_input": "2023-01-29T10:55:52.501388Z",
     "iopub.status.busy": "2023-01-29T10:55:52.500913Z",
     "iopub.status.idle": "2023-01-29T10:55:52.535458Z",
     "shell.execute_reply": "2023-01-29T10:55:52.533904Z"
    },
    "papermill": {
     "duration": 0.050667,
     "end_time": "2023-01-29T10:55:52.537324",
     "exception": false,
     "start_time": "2023-01-29T10:55:52.486657",
     "status": "completed"
    },
    "tags": []
   },
   "outputs": [
    {
     "name": "stdout",
     "output_type": "stream",
     "text": [
      "<class 'pandas.core.frame.DataFrame'>\n",
      "RangeIndex: 891 entries, 0 to 890\n",
      "Data columns (total 12 columns):\n",
      " #   Column       Non-Null Count  Dtype  \n",
      "---  ------       --------------  -----  \n",
      " 0   PassengerId  891 non-null    int64  \n",
      " 1   Survived     891 non-null    int64  \n",
      " 2   Pclass       891 non-null    int64  \n",
      " 3   Name         891 non-null    object \n",
      " 4   Sex          891 non-null    object \n",
      " 5   Age          714 non-null    float64\n",
      " 6   SibSp        891 non-null    int64  \n",
      " 7   Parch        891 non-null    int64  \n",
      " 8   Ticket       891 non-null    object \n",
      " 9   Fare         891 non-null    float64\n",
      " 10  Cabin        204 non-null    object \n",
      " 11  Embarked     889 non-null    object \n",
      "dtypes: float64(2), int64(5), object(5)\n",
      "memory usage: 83.7+ KB\n"
     ]
    }
   ],
   "source": [
    "df_train.info()"
   ]
  },
  {
   "cell_type": "code",
   "execution_count": 5,
   "id": "4d301da6",
   "metadata": {
    "execution": {
     "iopub.execute_input": "2023-01-29T10:55:52.559803Z",
     "iopub.status.busy": "2023-01-29T10:55:52.559385Z",
     "iopub.status.idle": "2023-01-29T10:55:52.570986Z",
     "shell.execute_reply": "2023-01-29T10:55:52.569979Z"
    },
    "papermill": {
     "duration": 0.025349,
     "end_time": "2023-01-29T10:55:52.573218",
     "exception": false,
     "start_time": "2023-01-29T10:55:52.547869",
     "status": "completed"
    },
    "tags": []
   },
   "outputs": [
    {
     "data": {
      "text/plain": [
       "Age         177\n",
       "Cabin       687\n",
       "Embarked      2\n",
       "dtype: int64"
      ]
     },
     "execution_count": 5,
     "metadata": {},
     "output_type": "execute_result"
    }
   ],
   "source": [
    "df_train.isna().sum()[df_train.isna().sum() > 0]"
   ]
  },
  {
   "cell_type": "code",
   "execution_count": 6,
   "id": "0a6dbf1d",
   "metadata": {
    "execution": {
     "iopub.execute_input": "2023-01-29T10:55:52.598317Z",
     "iopub.status.busy": "2023-01-29T10:55:52.597856Z",
     "iopub.status.idle": "2023-01-29T10:55:52.630824Z",
     "shell.execute_reply": "2023-01-29T10:55:52.629871Z"
    },
    "papermill": {
     "duration": 0.047817,
     "end_time": "2023-01-29T10:55:52.632824",
     "exception": false,
     "start_time": "2023-01-29T10:55:52.585007",
     "status": "completed"
    },
    "tags": []
   },
   "outputs": [
    {
     "data": {
      "text/html": [
       "<div>\n",
       "<style scoped>\n",
       "    .dataframe tbody tr th:only-of-type {\n",
       "        vertical-align: middle;\n",
       "    }\n",
       "\n",
       "    .dataframe tbody tr th {\n",
       "        vertical-align: top;\n",
       "    }\n",
       "\n",
       "    .dataframe thead th {\n",
       "        text-align: right;\n",
       "    }\n",
       "</style>\n",
       "<table border=\"1\" class=\"dataframe\">\n",
       "  <thead>\n",
       "    <tr style=\"text-align: right;\">\n",
       "      <th></th>\n",
       "      <th>PassengerId</th>\n",
       "      <th>Survived</th>\n",
       "      <th>Pclass</th>\n",
       "      <th>Age</th>\n",
       "      <th>SibSp</th>\n",
       "      <th>Parch</th>\n",
       "      <th>Fare</th>\n",
       "    </tr>\n",
       "  </thead>\n",
       "  <tbody>\n",
       "    <tr>\n",
       "      <th>count</th>\n",
       "      <td>891.000000</td>\n",
       "      <td>891.000000</td>\n",
       "      <td>891.000000</td>\n",
       "      <td>714.000000</td>\n",
       "      <td>891.000000</td>\n",
       "      <td>891.000000</td>\n",
       "      <td>891.000000</td>\n",
       "    </tr>\n",
       "    <tr>\n",
       "      <th>mean</th>\n",
       "      <td>446.000000</td>\n",
       "      <td>0.383838</td>\n",
       "      <td>2.308642</td>\n",
       "      <td>29.699118</td>\n",
       "      <td>0.523008</td>\n",
       "      <td>0.381594</td>\n",
       "      <td>32.204208</td>\n",
       "    </tr>\n",
       "    <tr>\n",
       "      <th>std</th>\n",
       "      <td>257.353842</td>\n",
       "      <td>0.486592</td>\n",
       "      <td>0.836071</td>\n",
       "      <td>14.526497</td>\n",
       "      <td>1.102743</td>\n",
       "      <td>0.806057</td>\n",
       "      <td>49.693429</td>\n",
       "    </tr>\n",
       "    <tr>\n",
       "      <th>min</th>\n",
       "      <td>1.000000</td>\n",
       "      <td>0.000000</td>\n",
       "      <td>1.000000</td>\n",
       "      <td>0.420000</td>\n",
       "      <td>0.000000</td>\n",
       "      <td>0.000000</td>\n",
       "      <td>0.000000</td>\n",
       "    </tr>\n",
       "    <tr>\n",
       "      <th>25%</th>\n",
       "      <td>223.500000</td>\n",
       "      <td>0.000000</td>\n",
       "      <td>2.000000</td>\n",
       "      <td>20.125000</td>\n",
       "      <td>0.000000</td>\n",
       "      <td>0.000000</td>\n",
       "      <td>7.910400</td>\n",
       "    </tr>\n",
       "    <tr>\n",
       "      <th>50%</th>\n",
       "      <td>446.000000</td>\n",
       "      <td>0.000000</td>\n",
       "      <td>3.000000</td>\n",
       "      <td>28.000000</td>\n",
       "      <td>0.000000</td>\n",
       "      <td>0.000000</td>\n",
       "      <td>14.454200</td>\n",
       "    </tr>\n",
       "    <tr>\n",
       "      <th>75%</th>\n",
       "      <td>668.500000</td>\n",
       "      <td>1.000000</td>\n",
       "      <td>3.000000</td>\n",
       "      <td>38.000000</td>\n",
       "      <td>1.000000</td>\n",
       "      <td>0.000000</td>\n",
       "      <td>31.000000</td>\n",
       "    </tr>\n",
       "    <tr>\n",
       "      <th>max</th>\n",
       "      <td>891.000000</td>\n",
       "      <td>1.000000</td>\n",
       "      <td>3.000000</td>\n",
       "      <td>80.000000</td>\n",
       "      <td>8.000000</td>\n",
       "      <td>6.000000</td>\n",
       "      <td>512.329200</td>\n",
       "    </tr>\n",
       "  </tbody>\n",
       "</table>\n",
       "</div>"
      ],
      "text/plain": [
       "       PassengerId    Survived      Pclass         Age       SibSp  \\\n",
       "count   891.000000  891.000000  891.000000  714.000000  891.000000   \n",
       "mean    446.000000    0.383838    2.308642   29.699118    0.523008   \n",
       "std     257.353842    0.486592    0.836071   14.526497    1.102743   \n",
       "min       1.000000    0.000000    1.000000    0.420000    0.000000   \n",
       "25%     223.500000    0.000000    2.000000   20.125000    0.000000   \n",
       "50%     446.000000    0.000000    3.000000   28.000000    0.000000   \n",
       "75%     668.500000    1.000000    3.000000   38.000000    1.000000   \n",
       "max     891.000000    1.000000    3.000000   80.000000    8.000000   \n",
       "\n",
       "            Parch        Fare  \n",
       "count  891.000000  891.000000  \n",
       "mean     0.381594   32.204208  \n",
       "std      0.806057   49.693429  \n",
       "min      0.000000    0.000000  \n",
       "25%      0.000000    7.910400  \n",
       "50%      0.000000   14.454200  \n",
       "75%      0.000000   31.000000  \n",
       "max      6.000000  512.329200  "
      ]
     },
     "execution_count": 6,
     "metadata": {},
     "output_type": "execute_result"
    }
   ],
   "source": [
    "df_train.describe()"
   ]
  },
  {
   "cell_type": "code",
   "execution_count": 7,
   "id": "58e464df",
   "metadata": {
    "execution": {
     "iopub.execute_input": "2023-01-29T10:55:52.657478Z",
     "iopub.status.busy": "2023-01-29T10:55:52.656695Z",
     "iopub.status.idle": "2023-01-29T10:55:52.826464Z",
     "shell.execute_reply": "2023-01-29T10:55:52.825742Z"
    },
    "papermill": {
     "duration": 0.184466,
     "end_time": "2023-01-29T10:55:52.828733",
     "exception": false,
     "start_time": "2023-01-29T10:55:52.644267",
     "status": "completed"
    },
    "tags": []
   },
   "outputs": [
    {
     "data": {
      "text/plain": [
       "<AxesSubplot:xlabel='Age'>"
      ]
     },
     "execution_count": 7,
     "metadata": {},
     "output_type": "execute_result"
    },
    {
     "data": {
      "image/png": "[encoded data removed]",
      "text/plain": [
       "<Figure size 432x288 with 1 Axes>"
      ]
     },
     "metadata": {
      "needs_background": "light"
     },
     "output_type": "display_data"
    }
   ],
   "source": [
    "sns.boxplot(\n",
    "    x = df_train[\"Age\"], \n",
    "    y = pd.Categorical(df_train[\"Pclass\"])\n",
    ")"
   ]
  },
  {
   "cell_type": "code",
   "execution_count": 8,
   "id": "92971fc0",
   "metadata": {
    "execution": {
     "iopub.execute_input": "2023-01-29T10:55:52.856394Z",
     "iopub.status.busy": "2023-01-29T10:55:52.855386Z",
     "iopub.status.idle": "2023-01-29T10:55:53.006397Z",
     "shell.execute_reply": "2023-01-29T10:55:53.005321Z"
    },
    "papermill": {
     "duration": 0.167308,
     "end_time": "2023-01-29T10:55:53.008959",
     "exception": false,
     "start_time": "2023-01-29T10:55:52.841651",
     "status": "completed"
    },
    "tags": []
   },
   "outputs": [
    {
     "data": {
      "text/plain": [
       "<AxesSubplot:xlabel='Fare'>"
      ]
     },
     "execution_count": 8,
     "metadata": {},
     "output_type": "execute_result"
    },
    {
     "data": {
      "image/png": "[encoded data removed]",
      "text/plain": [
       "<Figure size 432x288 with 1 Axes>"
      ]
     },
     "metadata": {
      "needs_background": "light"
     },
     "output_type": "display_data"
    }
   ],
   "source": [
    "sns.boxplot(\n",
    "    x = df_train[\"Fare\"], \n",
    "    y = pd.Categorical(df_train[\"Pclass\"])\n",
    ")"
   ]
  },
  {
   "cell_type": "code",
   "execution_count": 9,
   "id": "dfd51d4f",
   "metadata": {
    "execution": {
     "iopub.execute_input": "2023-01-29T10:55:53.040407Z",
     "iopub.status.busy": "2023-01-29T10:55:53.039428Z",
     "iopub.status.idle": "2023-01-29T10:55:53.281396Z",
     "shell.execute_reply": "2023-01-29T10:55:53.280375Z"
    },
    "papermill": {
     "duration": 0.258175,
     "end_time": "2023-01-29T10:55:53.283382",
     "exception": false,
     "start_time": "2023-01-29T10:55:53.025207",
     "status": "completed"
    },
    "tags": []
   },
   "outputs": [
    {
     "data": {
      "text/plain": [
       "<AxesSubplot:xlabel='Survived', ylabel='Count'>"
      ]
     },
     "execution_count": 9,
     "metadata": {},
     "output_type": "execute_result"
    },
    {
     "data": {
      "image/png": "[encoded data removed]",
      "text/plain": [
       "<Figure size 432x288 with 1 Axes>"
      ]
     },
     "metadata": {
      "needs_background": "light"
     },
     "output_type": "display_data"
    }
   ],
   "source": [
    "sns.histplot(\n",
    "    x = df_train[\"Survived\"],\n",
    "    hue = pd.Categorical(df_train[\"Pclass\"]),\n",
    "    multiple = \"stack\"\n",
    ")"
   ]
  },
  {
   "cell_type": "code",
   "execution_count": 10,
   "id": "bd79f376",
   "metadata": {
    "execution": {
     "iopub.execute_input": "2023-01-29T10:55:53.310662Z",
     "iopub.status.busy": "2023-01-29T10:55:53.310129Z",
     "iopub.status.idle": "2023-01-29T10:55:53.320979Z",
     "shell.execute_reply": "2023-01-29T10:55:53.319966Z"
    },
    "papermill": {
     "duration": 0.027285,
     "end_time": "2023-01-29T10:55:53.323076",
     "exception": false,
     "start_time": "2023-01-29T10:55:53.295791",
     "status": "completed"
    },
    "tags": []
   },
   "outputs": [
    {
     "data": {
      "text/plain": [
       "Pclass  Survived\n",
       "1       0            80\n",
       "        1           136\n",
       "2       0            97\n",
       "        1            87\n",
       "3       0           372\n",
       "        1           119\n",
       "dtype: int64"
      ]
     },
     "execution_count": 10,
     "metadata": {},
     "output_type": "execute_result"
    }
   ],
   "source": [
    "df_train.groupby([\"Pclass\", \"Survived\"]).size()"
   ]
  },
  {
   "cell_type": "code",
   "execution_count": 11,
   "id": "a3e4207c",
   "metadata": {
    "execution": {
     "iopub.execute_input": "2023-01-29T10:55:53.348687Z",
     "iopub.status.busy": "2023-01-29T10:55:53.348257Z",
     "iopub.status.idle": "2023-01-29T10:55:53.597416Z",
     "shell.execute_reply": "2023-01-29T10:55:53.596410Z"
    },
    "papermill": {
     "duration": 0.268666,
     "end_time": "2023-01-29T10:55:53.604042",
     "exception": false,
     "start_time": "2023-01-29T10:55:53.335376",
     "status": "completed"
    },
    "tags": []
   },
   "outputs": [
    {
     "data": {
      "text/plain": [
       "<AxesSubplot:xlabel='Pclass', ylabel='Count'>"
      ]
     },
     "execution_count": 11,
     "metadata": {},
     "output_type": "execute_result"
    },
    {
     "data": {
      "image/png": "[encoded data removed]",
      "text/plain": [
       "<Figure size 432x288 with 1 Axes>"
      ]
     },
     "metadata": {
      "needs_background": "light"
     },
     "output_type": "display_data"
    }
   ],
   "source": [
    "sns.histplot(\n",
    "    x = df_train[\"Pclass\"],\n",
    "    hue = pd.Categorical(df_train[\"Pclass\"])\n",
    ")"
   ]
  },
  {
   "cell_type": "code",
   "execution_count": 12,
   "id": "737c0394",
   "metadata": {
    "execution": {
     "iopub.execute_input": "2023-01-29T10:55:53.637542Z",
     "iopub.status.busy": "2023-01-29T10:55:53.636905Z",
     "iopub.status.idle": "2023-01-29T10:55:53.806457Z",
     "shell.execute_reply": "2023-01-29T10:55:53.805022Z"
    },
    "papermill": {
     "duration": 0.189596,
     "end_time": "2023-01-29T10:55:53.808795",
     "exception": false,
     "start_time": "2023-01-29T10:55:53.619199",
     "status": "completed"
    },
    "tags": []
   },
   "outputs": [
    {
     "data": {
      "text/plain": [
       "<AxesSubplot:xlabel='Sex', ylabel='Count'>"
      ]
     },
     "execution_count": 12,
     "metadata": {},
     "output_type": "execute_result"
    },
    {
     "data": {
      "image/png": "[encoded data removed]",
      "text/plain": [
       "<Figure size 432x288 with 1 Axes>"
      ]
     },
     "metadata": {
      "needs_background": "light"
     },
     "output_type": "display_data"
    }
   ],
   "source": [
    "sns.histplot(\n",
    "    x = df_train[\"Sex\"],\n",
    "    hue = pd.Categorical(df_train[\"Survived\"]),\n",
    "    multiple = \"stack\"\n",
    ")"
   ]
  },
  {
   "cell_type": "code",
   "execution_count": 13,
   "id": "535f877b",
   "metadata": {
    "execution": {
     "iopub.execute_input": "2023-01-29T10:55:53.838927Z",
     "iopub.status.busy": "2023-01-29T10:55:53.838149Z",
     "iopub.status.idle": "2023-01-29T10:55:53.844465Z",
     "shell.execute_reply": "2023-01-29T10:55:53.843079Z"
    },
    "papermill": {
     "duration": 0.024424,
     "end_time": "2023-01-29T10:55:53.847753",
     "exception": false,
     "start_time": "2023-01-29T10:55:53.823329",
     "status": "completed"
    },
    "tags": []
   },
   "outputs": [],
   "source": [
    "df_train[\"Pclass\"] = pd.Categorical(df_train[\"Pclass\"], ordered = True)"
   ]
  },
  {
   "cell_type": "markdown",
   "id": "3730ebcf",
   "metadata": {
    "papermill": {
     "duration": 0.012481,
     "end_time": "2023-01-29T10:55:53.873068",
     "exception": false,
     "start_time": "2023-01-29T10:55:53.860587",
     "status": "completed"
    },
    "tags": []
   },
   "source": [
    "## test dataset"
   ]
  },
  {
   "cell_type": "code",
   "execution_count": 14,
   "id": "36e095c2",
   "metadata": {
    "execution": {
     "iopub.execute_input": "2023-01-29T10:55:53.901667Z",
     "iopub.status.busy": "2023-01-29T10:55:53.901140Z",
     "iopub.status.idle": "2023-01-29T10:55:53.917163Z",
     "shell.execute_reply": "2023-01-29T10:55:53.915463Z"
    },
    "papermill": {
     "duration": 0.03315,
     "end_time": "2023-01-29T10:55:53.919326",
     "exception": false,
     "start_time": "2023-01-29T10:55:53.886176",
     "status": "completed"
    },
    "tags": []
   },
   "outputs": [
    {
     "data": {
      "text/html": [
       "<div>\n",
       "<style scoped>\n",
       "    .dataframe tbody tr th:only-of-type {\n",
       "        vertical-align: middle;\n",
       "    }\n",
       "\n",
       "    .dataframe tbody tr th {\n",
       "        vertical-align: top;\n",
       "    }\n",
       "\n",
       "    .dataframe thead th {\n",
       "        text-align: right;\n",
       "    }\n",
       "</style>\n",
       "<table border=\"1\" class=\"dataframe\">\n",
       "  <thead>\n",
       "    <tr style=\"text-align: right;\">\n",
       "      <th></th>\n",
       "      <th>PassengerId</th>\n",
       "      <th>Pclass</th>\n",
       "      <th>Name</th>\n",
       "      <th>Sex</th>\n",
       "      <th>Age</th>\n",
       "      <th>SibSp</th>\n",
       "      <th>Parch</th>\n",
       "      <th>Ticket</th>\n",
       "      <th>Fare</th>\n",
       "      <th>Cabin</th>\n",
       "      <th>Embarked</th>\n",
       "    </tr>\n",
       "  </thead>\n",
       "  <tbody>\n",
       "    <tr>\n",
       "      <th>0</th>\n",
       "      <td>892</td>\n",
       "      <td>3</td>\n",
       "      <td>Kelly, Mr. James</td>\n",
       "      <td>male</td>\n",
       "      <td>34.5</td>\n",
       "      <td>0</td>\n",
       "      <td>0</td>\n",
       "      <td>330911</td>\n",
       "      <td>7.8292</td>\n",
       "      <td>NaN</td>\n",
       "      <td>Q</td>\n",
       "    </tr>\n",
       "    <tr>\n",
       "      <th>1</th>\n",
       "      <td>893</td>\n",
       "      <td>3</td>\n",
       "      <td>Wilkes, Mrs. James (Ellen Needs)</td>\n",
       "      <td>female</td>\n",
       "      <td>47.0</td>\n",
       "      <td>1</td>\n",
       "      <td>0</td>\n",
       "      <td>363272</td>\n",
       "      <td>7.0000</td>\n",
       "      <td>NaN</td>\n",
       "      <td>S</td>\n",
       "    </tr>\n",
       "    <tr>\n",
       "      <th>2</th>\n",
       "      <td>894</td>\n",
       "      <td>2</td>\n",
       "      <td>Myles, Mr. Thomas Francis</td>\n",
       "      <td>male</td>\n",
       "      <td>62.0</td>\n",
       "      <td>0</td>\n",
       "      <td>0</td>\n",
       "      <td>240276</td>\n",
       "      <td>9.6875</td>\n",
       "      <td>NaN</td>\n",
       "      <td>Q</td>\n",
       "    </tr>\n",
       "    <tr>\n",
       "      <th>3</th>\n",
       "      <td>895</td>\n",
       "      <td>3</td>\n",
       "      <td>Wirz, Mr. Albert</td>\n",
       "      <td>male</td>\n",
       "      <td>27.0</td>\n",
       "      <td>0</td>\n",
       "      <td>0</td>\n",
       "      <td>315154</td>\n",
       "      <td>8.6625</td>\n",
       "      <td>NaN</td>\n",
       "      <td>S</td>\n",
       "    </tr>\n",
       "    <tr>\n",
       "      <th>4</th>\n",
       "      <td>896</td>\n",
       "      <td>3</td>\n",
       "      <td>Hirvonen, Mrs. Alexander (Helga E Lindqvist)</td>\n",
       "      <td>female</td>\n",
       "      <td>22.0</td>\n",
       "      <td>1</td>\n",
       "      <td>1</td>\n",
       "      <td>3101298</td>\n",
       "      <td>12.2875</td>\n",
       "      <td>NaN</td>\n",
       "      <td>S</td>\n",
       "    </tr>\n",
       "  </tbody>\n",
       "</table>\n",
       "</div>"
      ],
      "text/plain": [
       "   PassengerId  Pclass                                          Name     Sex  \\\n",
       "0          892       3                              Kelly, Mr. James    male   \n",
       "1          893       3              Wilkes, Mrs. James (Ellen Needs)  female   \n",
       "2          894       2                     Myles, Mr. Thomas Francis    male   \n",
       "3          895       3                              Wirz, Mr. Albert    male   \n",
       "4          896       3  Hirvonen, Mrs. Alexander (Helga E Lindqvist)  female   \n",
       "\n",
       "    Age  SibSp  Parch   Ticket     Fare Cabin Embarked  \n",
       "0  34.5      0      0   330911   7.8292   NaN        Q  \n",
       "1  47.0      1      0   363272   7.0000   NaN        S  \n",
       "2  62.0      0      0   240276   9.6875   NaN        Q  \n",
       "3  27.0      0      0   315154   8.6625   NaN        S  \n",
       "4  22.0      1      1  3101298  12.2875   NaN        S  "
      ]
     },
     "execution_count": 14,
     "metadata": {},
     "output_type": "execute_result"
    }
   ],
   "source": [
    "df_test.head()"
   ]
  },
  {
   "cell_type": "code",
   "execution_count": 15,
   "id": "eaa69602",
   "metadata": {
    "execution": {
     "iopub.execute_input": "2023-01-29T10:55:53.948653Z",
     "iopub.status.busy": "2023-01-29T10:55:53.946657Z",
     "iopub.status.idle": "2023-01-29T10:55:53.960215Z",
     "shell.execute_reply": "2023-01-29T10:55:53.959264Z"
    },
    "papermill": {
     "duration": 0.030133,
     "end_time": "2023-01-29T10:55:53.962277",
     "exception": false,
     "start_time": "2023-01-29T10:55:53.932144",
     "status": "completed"
    },
    "tags": []
   },
   "outputs": [
    {
     "name": "stdout",
     "output_type": "stream",
     "text": [
      "<class 'pandas.core.frame.DataFrame'>\n",
      "RangeIndex: 418 entries, 0 to 417\n",
      "Data columns (total 11 columns):\n",
      " #   Column       Non-Null Count  Dtype  \n",
      "---  ------       --------------  -----  \n",
      " 0   PassengerId  418 non-null    int64  \n",
      " 1   Pclass       418 non-null    int64  \n",
      " 2   Name         418 non-null    object \n",
      " 3   Sex          418 non-null    object \n",
      " 4   Age          332 non-null    float64\n",
      " 5   SibSp        418 non-null    int64  \n",
      " 6   Parch        418 non-null    int64  \n",
      " 7   Ticket       418 non-null    object \n",
      " 8   Fare         417 non-null    float64\n",
      " 9   Cabin        91 non-null     object \n",
      " 10  Embarked     418 non-null    object \n",
      "dtypes: float64(2), int64(4), object(5)\n",
      "memory usage: 36.0+ KB\n"
     ]
    }
   ],
   "source": [
    "df_test.info()"
   ]
  },
  {
   "cell_type": "code",
   "execution_count": 16,
   "id": "b3185ab7",
   "metadata": {
    "execution": {
     "iopub.execute_input": "2023-01-29T10:55:53.991133Z",
     "iopub.status.busy": "2023-01-29T10:55:53.989702Z",
     "iopub.status.idle": "2023-01-29T10:55:54.003753Z",
     "shell.execute_reply": "2023-01-29T10:55:54.002583Z"
    },
    "papermill": {
     "duration": 0.030754,
     "end_time": "2023-01-29T10:55:54.005868",
     "exception": false,
     "start_time": "2023-01-29T10:55:53.975114",
     "status": "completed"
    },
    "tags": []
   },
   "outputs": [
    {
     "data": {
      "text/plain": [
       "Age       86\n",
       "Fare       1\n",
       "Cabin    327\n",
       "dtype: int64"
      ]
     },
     "execution_count": 16,
     "metadata": {},
     "output_type": "execute_result"
    }
   ],
   "source": [
    "df_test.isna().sum()[df_test.isna().sum() > 0]"
   ]
  },
  {
   "cell_type": "code",
   "execution_count": 17,
   "id": "fc867b23",
   "metadata": {
    "execution": {
     "iopub.execute_input": "2023-01-29T10:55:54.034762Z",
     "iopub.status.busy": "2023-01-29T10:55:54.034188Z",
     "iopub.status.idle": "2023-01-29T10:55:54.042428Z",
     "shell.execute_reply": "2023-01-29T10:55:54.040267Z"
    },
    "papermill": {
     "duration": 0.025498,
     "end_time": "2023-01-29T10:55:54.044817",
     "exception": false,
     "start_time": "2023-01-29T10:55:54.019319",
     "status": "completed"
    },
    "tags": []
   },
   "outputs": [],
   "source": [
    "df_test[\"Pclass\"] = pd.Categorical(df_test[\"Pclass\"], ordered = True)"
   ]
  },
  {
   "cell_type": "markdown",
   "id": "c88dfc5f",
   "metadata": {
    "papermill": {
     "duration": 0.012607,
     "end_time": "2023-01-29T10:55:54.070343",
     "exception": false,
     "start_time": "2023-01-29T10:55:54.057736",
     "status": "completed"
    },
    "tags": []
   },
   "source": [
    "# Imputation\n",
    "According to the age column in the dataset, it has so many NA values. To get rid of NA values, I will use the imputation technique. A simple technique that replaces NA with the mean value."
   ]
  },
  {
   "cell_type": "code",
   "execution_count": 18,
   "id": "aa48566f",
   "metadata": {
    "execution": {
     "iopub.execute_input": "2023-01-29T10:55:54.098357Z",
     "iopub.status.busy": "2023-01-29T10:55:54.097847Z",
     "iopub.status.idle": "2023-01-29T10:55:54.107645Z",
     "shell.execute_reply": "2023-01-29T10:55:54.106671Z"
    },
    "papermill": {
     "duration": 0.026312,
     "end_time": "2023-01-29T10:55:54.109417",
     "exception": false,
     "start_time": "2023-01-29T10:55:54.083105",
     "status": "completed"
    },
    "tags": []
   },
   "outputs": [],
   "source": [
    "import math\n",
    "\n",
    "avg_ages = {}\n",
    "for i in range(df_train[\"Pclass\"].max()):\n",
    "    ages = df_train.loc[df_train[\"Pclass\"] == i + 1, \"Age\"]\n",
    "    avg_ages[i + 1] = math.floor(ages.mean())"
   ]
  },
  {
   "cell_type": "code",
   "execution_count": 19,
   "id": "db063e2a",
   "metadata": {
    "execution": {
     "iopub.execute_input": "2023-01-29T10:55:54.140106Z",
     "iopub.status.busy": "2023-01-29T10:55:54.138357Z",
     "iopub.status.idle": "2023-01-29T10:55:54.147225Z",
     "shell.execute_reply": "2023-01-29T10:55:54.145491Z"
    },
    "papermill": {
     "duration": 0.026354,
     "end_time": "2023-01-29T10:55:54.149742",
     "exception": false,
     "start_time": "2023-01-29T10:55:54.123388",
     "status": "completed"
    },
    "tags": []
   },
   "outputs": [
    {
     "data": {
      "text/plain": [
       "{1: 38, 2: 29, 3: 25}"
      ]
     },
     "execution_count": 19,
     "metadata": {},
     "output_type": "execute_result"
    }
   ],
   "source": [
    "avg_ages"
   ]
  },
  {
   "cell_type": "code",
   "execution_count": 20,
   "id": "5199753a",
   "metadata": {
    "execution": {
     "iopub.execute_input": "2023-01-29T10:55:54.180331Z",
     "iopub.status.busy": "2023-01-29T10:55:54.178784Z",
     "iopub.status.idle": "2023-01-29T10:55:54.267490Z",
     "shell.execute_reply": "2023-01-29T10:55:54.266420Z"
    },
    "papermill": {
     "duration": 0.10695,
     "end_time": "2023-01-29T10:55:54.270386",
     "exception": false,
     "start_time": "2023-01-29T10:55:54.163436",
     "status": "completed"
    },
    "tags": []
   },
   "outputs": [],
   "source": [
    "for i in range(df_train.shape[0]):\n",
    "    if pd.isna(df_train.loc[i, \"Age\"]):\n",
    "        df_train.loc[i, \"Age\"] = avg_ages[df_train.loc[i, \"Pclass\"]]"
   ]
  },
  {
   "cell_type": "code",
   "execution_count": 21,
   "id": "7170cf20",
   "metadata": {
    "execution": {
     "iopub.execute_input": "2023-01-29T10:55:54.300530Z",
     "iopub.status.busy": "2023-01-29T10:55:54.298919Z",
     "iopub.status.idle": "2023-01-29T10:55:54.349149Z",
     "shell.execute_reply": "2023-01-29T10:55:54.347680Z"
    },
    "papermill": {
     "duration": 0.068106,
     "end_time": "2023-01-29T10:55:54.351912",
     "exception": false,
     "start_time": "2023-01-29T10:55:54.283806",
     "status": "completed"
    },
    "tags": []
   },
   "outputs": [],
   "source": [
    "for i in range(df_test.shape[0]):\n",
    "    if pd.isna(df_test.loc[i, \"Age\"]):\n",
    "        df_test.loc[i, \"Age\"] = avg_ages[df_test.loc[i, \"Pclass\"]]"
   ]
  },
  {
   "cell_type": "code",
   "execution_count": 22,
   "id": "f841732c",
   "metadata": {
    "execution": {
     "iopub.execute_input": "2023-01-29T10:55:54.380667Z",
     "iopub.status.busy": "2023-01-29T10:55:54.380155Z",
     "iopub.status.idle": "2023-01-29T10:55:54.394038Z",
     "shell.execute_reply": "2023-01-29T10:55:54.392676Z"
    },
    "papermill": {
     "duration": 0.030861,
     "end_time": "2023-01-29T10:55:54.396168",
     "exception": false,
     "start_time": "2023-01-29T10:55:54.365307",
     "status": "completed"
    },
    "tags": []
   },
   "outputs": [
    {
     "data": {
      "text/plain": [
       "Cabin       687\n",
       "Embarked      2\n",
       "dtype: int64"
      ]
     },
     "execution_count": 22,
     "metadata": {},
     "output_type": "execute_result"
    }
   ],
   "source": [
    "df_train.isna().sum()[df_train.isna().sum() > 0]"
   ]
  },
  {
   "cell_type": "code",
   "execution_count": 23,
   "id": "05cdbe72",
   "metadata": {
    "execution": {
     "iopub.execute_input": "2023-01-29T10:55:54.425556Z",
     "iopub.status.busy": "2023-01-29T10:55:54.423963Z",
     "iopub.status.idle": "2023-01-29T10:55:54.438478Z",
     "shell.execute_reply": "2023-01-29T10:55:54.437035Z"
    },
    "papermill": {
     "duration": 0.031056,
     "end_time": "2023-01-29T10:55:54.440342",
     "exception": false,
     "start_time": "2023-01-29T10:55:54.409286",
     "status": "completed"
    },
    "tags": []
   },
   "outputs": [
    {
     "data": {
      "text/plain": [
       "Fare       1\n",
       "Cabin    327\n",
       "dtype: int64"
      ]
     },
     "execution_count": 23,
     "metadata": {},
     "output_type": "execute_result"
    }
   ],
   "source": [
    "df_test.isna().sum()[df_test.isna().sum() > 0]"
   ]
  },
  {
   "cell_type": "markdown",
   "id": "24f52eba",
   "metadata": {
    "papermill": {
     "duration": 0.012066,
     "end_time": "2023-01-29T10:55:54.465077",
     "exception": false,
     "start_time": "2023-01-29T10:55:54.453011",
     "status": "completed"
    },
    "tags": []
   },
   "source": [
    "# Prepare data for model training"
   ]
  },
  {
   "cell_type": "code",
   "execution_count": 24,
   "id": "869fe6f9",
   "metadata": {
    "execution": {
     "iopub.execute_input": "2023-01-29T10:55:54.493499Z",
     "iopub.status.busy": "2023-01-29T10:55:54.491784Z",
     "iopub.status.idle": "2023-01-29T10:55:54.499057Z",
     "shell.execute_reply": "2023-01-29T10:55:54.497427Z"
    },
    "papermill": {
     "duration": 0.024977,
     "end_time": "2023-01-29T10:55:54.502474",
     "exception": false,
     "start_time": "2023-01-29T10:55:54.477497",
     "status": "completed"
    },
    "tags": []
   },
   "outputs": [],
   "source": [
    "df_train_class = df_train.copy()\n",
    "df_test_class = df_test.copy()"
   ]
  },
  {
   "cell_type": "code",
   "execution_count": 25,
   "id": "633cd3cf",
   "metadata": {
    "execution": {
     "iopub.execute_input": "2023-01-29T10:55:54.531738Z",
     "iopub.status.busy": "2023-01-29T10:55:54.531183Z",
     "iopub.status.idle": "2023-01-29T10:55:54.539746Z",
     "shell.execute_reply": "2023-01-29T10:55:54.538797Z"
    },
    "papermill": {
     "duration": 0.025588,
     "end_time": "2023-01-29T10:55:54.541704",
     "exception": false,
     "start_time": "2023-01-29T10:55:54.516116",
     "status": "completed"
    },
    "tags": []
   },
   "outputs": [],
   "source": [
    "cols = [\"PassengerId\", \"Ticket\", \"Name\", \"Fare\", \"Embarked\", \"Cabin\"]\n",
    "\n",
    "df_train_class.drop(cols, axis = 1, inplace = True)\n",
    "df_test_class.drop(cols, axis = 1, inplace = True)"
   ]
  },
  {
   "cell_type": "code",
   "execution_count": 26,
   "id": "ee700671",
   "metadata": {
    "execution": {
     "iopub.execute_input": "2023-01-29T10:55:54.571441Z",
     "iopub.status.busy": "2023-01-29T10:55:54.570949Z",
     "iopub.status.idle": "2023-01-29T10:55:54.586432Z",
     "shell.execute_reply": "2023-01-29T10:55:54.585452Z"
    },
    "papermill": {
     "duration": 0.033826,
     "end_time": "2023-01-29T10:55:54.589292",
     "exception": false,
     "start_time": "2023-01-29T10:55:54.555466",
     "status": "completed"
    },
    "tags": []
   },
   "outputs": [],
   "source": [
    "df_train_class = pd.get_dummies(df_train_class)\n",
    "X_test = pd.get_dummies(df_test_class)"
   ]
  },
  {
   "cell_type": "code",
   "execution_count": 27,
   "id": "7acfbd4c",
   "metadata": {
    "execution": {
     "iopub.execute_input": "2023-01-29T10:55:54.619566Z",
     "iopub.status.busy": "2023-01-29T10:55:54.619069Z",
     "iopub.status.idle": "2023-01-29T10:55:54.630645Z",
     "shell.execute_reply": "2023-01-29T10:55:54.629875Z"
    },
    "papermill": {
     "duration": 0.02947,
     "end_time": "2023-01-29T10:55:54.632700",
     "exception": false,
     "start_time": "2023-01-29T10:55:54.603230",
     "status": "completed"
    },
    "tags": []
   },
   "outputs": [
    {
     "data": {
      "text/html": [
       "<div>\n",
       "<style scoped>\n",
       "    .dataframe tbody tr th:only-of-type {\n",
       "        vertical-align: middle;\n",
       "    }\n",
       "\n",
       "    .dataframe tbody tr th {\n",
       "        vertical-align: top;\n",
       "    }\n",
       "\n",
       "    .dataframe thead th {\n",
       "        text-align: right;\n",
       "    }\n",
       "</style>\n",
       "<table border=\"1\" class=\"dataframe\">\n",
       "  <thead>\n",
       "    <tr style=\"text-align: right;\">\n",
       "      <th></th>\n",
       "      <th>Survived</th>\n",
       "      <th>Age</th>\n",
       "      <th>SibSp</th>\n",
       "      <th>Parch</th>\n",
       "      <th>Pclass_1</th>\n",
       "      <th>Pclass_2</th>\n",
       "      <th>Pclass_3</th>\n",
       "      <th>Sex_female</th>\n",
       "      <th>Sex_male</th>\n",
       "    </tr>\n",
       "  </thead>\n",
       "  <tbody>\n",
       "    <tr>\n",
       "      <th>0</th>\n",
       "      <td>0</td>\n",
       "      <td>22.0</td>\n",
       "      <td>1</td>\n",
       "      <td>0</td>\n",
       "      <td>0</td>\n",
       "      <td>0</td>\n",
       "      <td>1</td>\n",
       "      <td>0</td>\n",
       "      <td>1</td>\n",
       "    </tr>\n",
       "    <tr>\n",
       "      <th>1</th>\n",
       "      <td>1</td>\n",
       "      <td>38.0</td>\n",
       "      <td>1</td>\n",
       "      <td>0</td>\n",
       "      <td>1</td>\n",
       "      <td>0</td>\n",
       "      <td>0</td>\n",
       "      <td>1</td>\n",
       "      <td>0</td>\n",
       "    </tr>\n",
       "    <tr>\n",
       "      <th>2</th>\n",
       "      <td>1</td>\n",
       "      <td>26.0</td>\n",
       "      <td>0</td>\n",
       "      <td>0</td>\n",
       "      <td>0</td>\n",
       "      <td>0</td>\n",
       "      <td>1</td>\n",
       "      <td>1</td>\n",
       "      <td>0</td>\n",
       "    </tr>\n",
       "    <tr>\n",
       "      <th>3</th>\n",
       "      <td>1</td>\n",
       "      <td>35.0</td>\n",
       "      <td>1</td>\n",
       "      <td>0</td>\n",
       "      <td>1</td>\n",
       "      <td>0</td>\n",
       "      <td>0</td>\n",
       "      <td>1</td>\n",
       "      <td>0</td>\n",
       "    </tr>\n",
       "    <tr>\n",
       "      <th>4</th>\n",
       "      <td>0</td>\n",
       "      <td>35.0</td>\n",
       "      <td>0</td>\n",
       "      <td>0</td>\n",
       "      <td>0</td>\n",
       "      <td>0</td>\n",
       "      <td>1</td>\n",
       "      <td>0</td>\n",
       "      <td>1</td>\n",
       "    </tr>\n",
       "  </tbody>\n",
       "</table>\n",
       "</div>"
      ],
      "text/plain": [
       "   Survived   Age  SibSp  Parch  Pclass_1  Pclass_2  Pclass_3  Sex_female  \\\n",
       "0         0  22.0      1      0         0         0         1           0   \n",
       "1         1  38.0      1      0         1         0         0           1   \n",
       "2         1  26.0      0      0         0         0         1           1   \n",
       "3         1  35.0      1      0         1         0         0           1   \n",
       "4         0  35.0      0      0         0         0         1           0   \n",
       "\n",
       "   Sex_male  \n",
       "0         1  \n",
       "1         0  \n",
       "2         0  \n",
       "3         0  \n",
       "4         1  "
      ]
     },
     "execution_count": 27,
     "metadata": {},
     "output_type": "execute_result"
    }
   ],
   "source": [
    "df_train_class.head()"
   ]
  },
  {
   "cell_type": "code",
   "execution_count": 28,
   "id": "f9b4c1d1",
   "metadata": {
    "execution": {
     "iopub.execute_input": "2023-01-29T10:55:54.662117Z",
     "iopub.status.busy": "2023-01-29T10:55:54.661637Z",
     "iopub.status.idle": "2023-01-29T10:55:54.673324Z",
     "shell.execute_reply": "2023-01-29T10:55:54.672649Z"
    },
    "papermill": {
     "duration": 0.029183,
     "end_time": "2023-01-29T10:55:54.675818",
     "exception": false,
     "start_time": "2023-01-29T10:55:54.646635",
     "status": "completed"
    },
    "tags": []
   },
   "outputs": [
    {
     "data": {
      "text/html": [
       "<div>\n",
       "<style scoped>\n",
       "    .dataframe tbody tr th:only-of-type {\n",
       "        vertical-align: middle;\n",
       "    }\n",
       "\n",
       "    .dataframe tbody tr th {\n",
       "        vertical-align: top;\n",
       "    }\n",
       "\n",
       "    .dataframe thead th {\n",
       "        text-align: right;\n",
       "    }\n",
       "</style>\n",
       "<table border=\"1\" class=\"dataframe\">\n",
       "  <thead>\n",
       "    <tr style=\"text-align: right;\">\n",
       "      <th></th>\n",
       "      <th>Age</th>\n",
       "      <th>SibSp</th>\n",
       "      <th>Parch</th>\n",
       "      <th>Pclass_1</th>\n",
       "      <th>Pclass_2</th>\n",
       "      <th>Pclass_3</th>\n",
       "      <th>Sex_female</th>\n",
       "      <th>Sex_male</th>\n",
       "    </tr>\n",
       "  </thead>\n",
       "  <tbody>\n",
       "    <tr>\n",
       "      <th>0</th>\n",
       "      <td>34.5</td>\n",
       "      <td>0</td>\n",
       "      <td>0</td>\n",
       "      <td>0</td>\n",
       "      <td>0</td>\n",
       "      <td>1</td>\n",
       "      <td>0</td>\n",
       "      <td>1</td>\n",
       "    </tr>\n",
       "    <tr>\n",
       "      <th>1</th>\n",
       "      <td>47.0</td>\n",
       "      <td>1</td>\n",
       "      <td>0</td>\n",
       "      <td>0</td>\n",
       "      <td>0</td>\n",
       "      <td>1</td>\n",
       "      <td>1</td>\n",
       "      <td>0</td>\n",
       "    </tr>\n",
       "    <tr>\n",
       "      <th>2</th>\n",
       "      <td>62.0</td>\n",
       "      <td>0</td>\n",
       "      <td>0</td>\n",
       "      <td>0</td>\n",
       "      <td>1</td>\n",
       "      <td>0</td>\n",
       "      <td>0</td>\n",
       "      <td>1</td>\n",
       "    </tr>\n",
       "    <tr>\n",
       "      <th>3</th>\n",
       "      <td>27.0</td>\n",
       "      <td>0</td>\n",
       "      <td>0</td>\n",
       "      <td>0</td>\n",
       "      <td>0</td>\n",
       "      <td>1</td>\n",
       "      <td>0</td>\n",
       "      <td>1</td>\n",
       "    </tr>\n",
       "    <tr>\n",
       "      <th>4</th>\n",
       "      <td>22.0</td>\n",
       "      <td>1</td>\n",
       "      <td>1</td>\n",
       "      <td>0</td>\n",
       "      <td>0</td>\n",
       "      <td>1</td>\n",
       "      <td>1</td>\n",
       "      <td>0</td>\n",
       "    </tr>\n",
       "  </tbody>\n",
       "</table>\n",
       "</div>"
      ],
      "text/plain": [
       "    Age  SibSp  Parch  Pclass_1  Pclass_2  Pclass_3  Sex_female  Sex_male\n",
       "0  34.5      0      0         0         0         1           0         1\n",
       "1  47.0      1      0         0         0         1           1         0\n",
       "2  62.0      0      0         0         1         0           0         1\n",
       "3  27.0      0      0         0         0         1           0         1\n",
       "4  22.0      1      1         0         0         1           1         0"
      ]
     },
     "execution_count": 28,
     "metadata": {},
     "output_type": "execute_result"
    }
   ],
   "source": [
    "X_test.head()"
   ]
  },
  {
   "cell_type": "code",
   "execution_count": 29,
   "id": "7844c1bf",
   "metadata": {
    "execution": {
     "iopub.execute_input": "2023-01-29T10:55:54.706631Z",
     "iopub.status.busy": "2023-01-29T10:55:54.705488Z",
     "iopub.status.idle": "2023-01-29T10:55:54.712074Z",
     "shell.execute_reply": "2023-01-29T10:55:54.711248Z"
    },
    "papermill": {
     "duration": 0.024828,
     "end_time": "2023-01-29T10:55:54.714672",
     "exception": false,
     "start_time": "2023-01-29T10:55:54.689844",
     "status": "completed"
    },
    "tags": []
   },
   "outputs": [],
   "source": [
    "X = df_train_class.drop(\"Survived\", axis = 1)\n",
    "y = df_train_class[\"Survived\"]"
   ]
  },
  {
   "cell_type": "markdown",
   "id": "9c0850b6",
   "metadata": {
    "papermill": {
     "duration": 0.013186,
     "end_time": "2023-01-29T10:55:54.741674",
     "exception": false,
     "start_time": "2023-01-29T10:55:54.728488",
     "status": "completed"
    },
    "tags": []
   },
   "source": [
    "# Train and test\n",
    "This problem is a binary classification problem. So, there are many methods commonly used for [binary classification](https://en.wikipedia.org/wiki/Binary_classification).\n",
    "\n",
    "So, I decided to use some of the methods commonly used for binary classification\n",
    "* [Logistic regression](https://en.wikipedia.org/wiki/Logistic_regression)\n",
    "* [Random forest](https://en.wikipedia.org/wiki/Random_forest)\n",
    "* [Decision tree](https://en.wikipedia.org/wiki/Decision_tree_learning)\n",
    "* [Naive Bayes classifier](https://en.wikipedia.org/wiki/Naive_Bayes_classifier)\n",
    "\n",
    "*You could try more if you want to. Just have fun with it :)*"
   ]
  },
  {
   "cell_type": "code",
   "execution_count": 30,
   "id": "c767af3a",
   "metadata": {
    "execution": {
     "iopub.execute_input": "2023-01-29T10:55:54.771736Z",
     "iopub.status.busy": "2023-01-29T10:55:54.771108Z",
     "iopub.status.idle": "2023-01-29T10:55:55.161113Z",
     "shell.execute_reply": "2023-01-29T10:55:55.160028Z"
    },
    "papermill": {
     "duration": 0.408764,
     "end_time": "2023-01-29T10:55:55.164181",
     "exception": false,
     "start_time": "2023-01-29T10:55:54.755417",
     "status": "completed"
    },
    "tags": []
   },
   "outputs": [],
   "source": [
    "# machine learning models\n",
    "from sklearn.linear_model import LogisticRegression\n",
    "from sklearn.tree import DecisionTreeClassifier\n",
    "from sklearn.ensemble import RandomForestClassifier\n",
    "from sklearn.naive_bayes import GaussianNB"
   ]
  },
  {
   "cell_type": "code",
   "execution_count": 31,
   "id": "b483f73d",
   "metadata": {
    "execution": {
     "iopub.execute_input": "2023-01-29T10:55:55.194489Z",
     "iopub.status.busy": "2023-01-29T10:55:55.193842Z",
     "iopub.status.idle": "2023-01-29T10:55:55.198388Z",
     "shell.execute_reply": "2023-01-29T10:55:55.197754Z"
    },
    "papermill": {
     "duration": 0.022088,
     "end_time": "2023-01-29T10:55:55.200352",
     "exception": false,
     "start_time": "2023-01-29T10:55:55.178264",
     "status": "completed"
    },
    "tags": []
   },
   "outputs": [],
   "source": [
    "def score(res):\n",
    "    return round(res * 100, 2)"
   ]
  },
  {
   "cell_type": "markdown",
   "id": "b363deb3",
   "metadata": {
    "papermill": {
     "duration": 0.013251,
     "end_time": "2023-01-29T10:55:55.228021",
     "exception": false,
     "start_time": "2023-01-29T10:55:55.214770",
     "status": "completed"
    },
    "tags": []
   },
   "source": [
    "## Logistic regression"
   ]
  },
  {
   "cell_type": "code",
   "execution_count": 32,
   "id": "e40de4dc",
   "metadata": {
    "execution": {
     "iopub.execute_input": "2023-01-29T10:55:55.257237Z",
     "iopub.status.busy": "2023-01-29T10:55:55.256622Z",
     "iopub.status.idle": "2023-01-29T10:55:55.285603Z",
     "shell.execute_reply": "2023-01-29T10:55:55.283938Z"
    },
    "papermill": {
     "duration": 0.047158,
     "end_time": "2023-01-29T10:55:55.288537",
     "exception": false,
     "start_time": "2023-01-29T10:55:55.241379",
     "status": "completed"
    },
    "tags": []
   },
   "outputs": [],
   "source": [
    "model_lgr = LogisticRegression()\n",
    "model_lgr.fit(X, y)\n",
    "score_lgr = score(model_lgr.score(X, y))"
   ]
  },
  {
   "cell_type": "markdown",
   "id": "1073652e",
   "metadata": {
    "papermill": {
     "duration": 0.01299,
     "end_time": "2023-01-29T10:55:55.315194",
     "exception": false,
     "start_time": "2023-01-29T10:55:55.302204",
     "status": "completed"
    },
    "tags": []
   },
   "source": [
    "## Random forest"
   ]
  },
  {
   "cell_type": "code",
   "execution_count": 33,
   "id": "e13dafe0",
   "metadata": {
    "execution": {
     "iopub.execute_input": "2023-01-29T10:55:55.343789Z",
     "iopub.status.busy": "2023-01-29T10:55:55.343359Z",
     "iopub.status.idle": "2023-01-29T10:55:55.529368Z",
     "shell.execute_reply": "2023-01-29T10:55:55.527436Z"
    },
    "papermill": {
     "duration": 0.204015,
     "end_time": "2023-01-29T10:55:55.532486",
     "exception": false,
     "start_time": "2023-01-29T10:55:55.328471",
     "status": "completed"
    },
    "tags": []
   },
   "outputs": [],
   "source": [
    "model_rf = RandomForestClassifier()\n",
    "model_rf.fit(X, y)\n",
    "score_rf = score(model_rf.score(X, y))"
   ]
  },
  {
   "cell_type": "markdown",
   "id": "381fd60c",
   "metadata": {
    "papermill": {
     "duration": 0.015178,
     "end_time": "2023-01-29T10:55:55.561724",
     "exception": false,
     "start_time": "2023-01-29T10:55:55.546546",
     "status": "completed"
    },
    "tags": []
   },
   "source": [
    "## Decision tree"
   ]
  },
  {
   "cell_type": "code",
   "execution_count": 34,
   "id": "42f697bd",
   "metadata": {
    "execution": {
     "iopub.execute_input": "2023-01-29T10:55:55.596041Z",
     "iopub.status.busy": "2023-01-29T10:55:55.595435Z",
     "iopub.status.idle": "2023-01-29T10:55:55.609385Z",
     "shell.execute_reply": "2023-01-29T10:55:55.607954Z"
    },
    "papermill": {
     "duration": 0.036241,
     "end_time": "2023-01-29T10:55:55.611994",
     "exception": false,
     "start_time": "2023-01-29T10:55:55.575753",
     "status": "completed"
    },
    "tags": []
   },
   "outputs": [],
   "source": [
    "model_dt = DecisionTreeClassifier()\n",
    "model_dt.fit(X, y)\n",
    "score_dt = score(model_dt.score(X, y))"
   ]
  },
  {
   "cell_type": "markdown",
   "id": "d75b04b6",
   "metadata": {
    "papermill": {
     "duration": 0.017973,
     "end_time": "2023-01-29T10:55:55.646972",
     "exception": false,
     "start_time": "2023-01-29T10:55:55.628999",
     "status": "completed"
    },
    "tags": []
   },
   "source": [
    "## Naive Bayes classifier"
   ]
  },
  {
   "cell_type": "code",
   "execution_count": 35,
   "id": "3d335783",
   "metadata": {
    "execution": {
     "iopub.execute_input": "2023-01-29T10:55:55.683070Z",
     "iopub.status.busy": "2023-01-29T10:55:55.682585Z",
     "iopub.status.idle": "2023-01-29T10:55:55.694541Z",
     "shell.execute_reply": "2023-01-29T10:55:55.692584Z"
    },
    "papermill": {
     "duration": 0.033897,
     "end_time": "2023-01-29T10:55:55.698265",
     "exception": false,
     "start_time": "2023-01-29T10:55:55.664368",
     "status": "completed"
    },
    "tags": []
   },
   "outputs": [],
   "source": [
    "model_nb = GaussianNB()\n",
    "model_nb.fit(X, y)\n",
    "score_nb = score(model_nb.score(X, y))"
   ]
  },
  {
   "cell_type": "markdown",
   "id": "e03bdf36",
   "metadata": {
    "papermill": {
     "duration": 0.014344,
     "end_time": "2023-01-29T10:55:55.727154",
     "exception": false,
     "start_time": "2023-01-29T10:55:55.712810",
     "status": "completed"
    },
    "tags": []
   },
   "source": [
    "# Conclusion"
   ]
  },
  {
   "cell_type": "code",
   "execution_count": 36,
   "id": "c9167e36",
   "metadata": {
    "execution": {
     "iopub.execute_input": "2023-01-29T10:55:55.758414Z",
     "iopub.status.busy": "2023-01-29T10:55:55.757110Z",
     "iopub.status.idle": "2023-01-29T10:55:55.772457Z",
     "shell.execute_reply": "2023-01-29T10:55:55.771422Z"
    },
    "papermill": {
     "duration": 0.033354,
     "end_time": "2023-01-29T10:55:55.774817",
     "exception": false,
     "start_time": "2023-01-29T10:55:55.741463",
     "status": "completed"
    },
    "tags": []
   },
   "outputs": [
    {
     "data": {
      "text/html": [
       "<div>\n",
       "<style scoped>\n",
       "    .dataframe tbody tr th:only-of-type {\n",
       "        vertical-align: middle;\n",
       "    }\n",
       "\n",
       "    .dataframe tbody tr th {\n",
       "        vertical-align: top;\n",
       "    }\n",
       "\n",
       "    .dataframe thead th {\n",
       "        text-align: right;\n",
       "    }\n",
       "</style>\n",
       "<table border=\"1\" class=\"dataframe\">\n",
       "  <thead>\n",
       "    <tr style=\"text-align: right;\">\n",
       "      <th></th>\n",
       "      <th>model</th>\n",
       "      <th>score</th>\n",
       "    </tr>\n",
       "  </thead>\n",
       "  <tbody>\n",
       "    <tr>\n",
       "      <th>1</th>\n",
       "      <td>Random forest</td>\n",
       "      <td>91.81</td>\n",
       "    </tr>\n",
       "    <tr>\n",
       "      <th>2</th>\n",
       "      <td>Decision tree</td>\n",
       "      <td>91.81</td>\n",
       "    </tr>\n",
       "    <tr>\n",
       "      <th>0</th>\n",
       "      <td>Logistic regression</td>\n",
       "      <td>80.70</td>\n",
       "    </tr>\n",
       "    <tr>\n",
       "      <th>3</th>\n",
       "      <td>Naive Bayes classifier</td>\n",
       "      <td>79.01</td>\n",
       "    </tr>\n",
       "  </tbody>\n",
       "</table>\n",
       "</div>"
      ],
      "text/plain": [
       "                    model  score\n",
       "1           Random forest  91.81\n",
       "2           Decision tree  91.81\n",
       "0     Logistic regression  80.70\n",
       "3  Naive Bayes classifier  79.01"
      ]
     },
     "execution_count": 36,
     "metadata": {},
     "output_type": "execute_result"
    }
   ],
   "source": [
    "models = pd.DataFrame({\n",
    "    \"model\": [\"Logistic regression\", \"Random forest\", \"Decision tree\", \"Naive Bayes classifier\"],\n",
    "    \"score\": [score_lgr, score_rf, score_dt, score_nb]\n",
    "})\n",
    "models.sort_values(by = \"score\", ascending = False)"
   ]
  },
  {
   "cell_type": "markdown",
   "id": "a9d748bd",
   "metadata": {
    "papermill": {
     "duration": 0.013491,
     "end_time": "2023-01-29T10:55:55.802456",
     "exception": false,
     "start_time": "2023-01-29T10:55:55.788965",
     "status": "completed"
    },
    "tags": []
   },
   "source": [
    "Decision tree and Random forest score the same. However, I will choose Random forest model. <br/>\n",
    "Ref: https://www.statology.org/decision-tree-vs-random-forest/"
   ]
  },
  {
   "cell_type": "markdown",
   "id": "49bd30e8",
   "metadata": {
    "papermill": {
     "duration": 0.013517,
     "end_time": "2023-01-29T10:55:55.829914",
     "exception": false,
     "start_time": "2023-01-29T10:55:55.816397",
     "status": "completed"
    },
    "tags": []
   },
   "source": [
    "# Submit"
   ]
  },
  {
   "cell_type": "code",
   "execution_count": 37,
   "id": "5222c5dc",
   "metadata": {
    "execution": {
     "iopub.execute_input": "2023-01-29T10:55:55.861715Z",
     "iopub.status.busy": "2023-01-29T10:55:55.861020Z",
     "iopub.status.idle": "2023-01-29T10:55:55.884259Z",
     "shell.execute_reply": "2023-01-29T10:55:55.882820Z"
    },
    "papermill": {
     "duration": 0.043,
     "end_time": "2023-01-29T10:55:55.886894",
     "exception": false,
     "start_time": "2023-01-29T10:55:55.843894",
     "status": "completed"
    },
    "tags": []
   },
   "outputs": [],
   "source": [
    "y_pred = model_rf.predict(X_test)"
   ]
  },
  {
   "cell_type": "code",
   "execution_count": 38,
   "id": "e7dbe5c9",
   "metadata": {
    "execution": {
     "iopub.execute_input": "2023-01-29T10:55:55.916581Z",
     "iopub.status.busy": "2023-01-29T10:55:55.916174Z",
     "iopub.status.idle": "2023-01-29T10:55:55.927038Z",
     "shell.execute_reply": "2023-01-29T10:55:55.925195Z"
    },
    "papermill": {
     "duration": 0.028646,
     "end_time": "2023-01-29T10:55:55.929439",
     "exception": false,
     "start_time": "2023-01-29T10:55:55.900793",
     "status": "completed"
    },
    "tags": []
   },
   "outputs": [],
   "source": [
    "submission = pd.DataFrame({\n",
    "    \"PassengerId\": df_test[\"PassengerId\"],\n",
    "    \"Survived\": y_pred\n",
    "})\n",
    "\n",
    "submission.to_csv(\"submission.csv\", index = False)"
   ]
  },
  {
   "cell_type": "code",
   "execution_count": 39,
   "id": "65912bb5",
   "metadata": {
    "execution": {
     "iopub.execute_input": "2023-01-29T10:55:55.960847Z",
     "iopub.status.busy": "2023-01-29T10:55:55.959404Z",
     "iopub.status.idle": "2023-01-29T10:55:55.975463Z",
     "shell.execute_reply": "2023-01-29T10:55:55.973888Z"
    },
    "papermill": {
     "duration": 0.034378,
     "end_time": "2023-01-29T10:55:55.977609",
     "exception": false,
     "start_time": "2023-01-29T10:55:55.943231",
     "status": "completed"
    },
    "tags": []
   },
   "outputs": [
    {
     "data": {
      "text/html": [
       "<div>\n",
       "<style scoped>\n",
       "    .dataframe tbody tr th:only-of-type {\n",
       "        vertical-align: middle;\n",
       "    }\n",
       "\n",
       "    .dataframe tbody tr th {\n",
       "        vertical-align: top;\n",
       "    }\n",
       "\n",
       "    .dataframe thead th {\n",
       "        text-align: right;\n",
       "    }\n",
       "</style>\n",
       "<table border=\"1\" class=\"dataframe\">\n",
       "  <thead>\n",
       "    <tr style=\"text-align: right;\">\n",
       "      <th></th>\n",
       "      <th>PassengerId</th>\n",
       "      <th>Survived</th>\n",
       "    </tr>\n",
       "  </thead>\n",
       "  <tbody>\n",
       "    <tr>\n",
       "      <th>0</th>\n",
       "      <td>892</td>\n",
       "      <td>0</td>\n",
       "    </tr>\n",
       "    <tr>\n",
       "      <th>1</th>\n",
       "      <td>893</td>\n",
       "      <td>0</td>\n",
       "    </tr>\n",
       "    <tr>\n",
       "      <th>2</th>\n",
       "      <td>894</td>\n",
       "      <td>1</td>\n",
       "    </tr>\n",
       "    <tr>\n",
       "      <th>3</th>\n",
       "      <td>895</td>\n",
       "      <td>1</td>\n",
       "    </tr>\n",
       "    <tr>\n",
       "      <th>4</th>\n",
       "      <td>896</td>\n",
       "      <td>1</td>\n",
       "    </tr>\n",
       "  </tbody>\n",
       "</table>\n",
       "</div>"
      ],
      "text/plain": [
       "   PassengerId  Survived\n",
       "0          892         0\n",
       "1          893         0\n",
       "2          894         1\n",
       "3          895         1\n",
       "4          896         1"
      ]
     },
     "execution_count": 39,
     "metadata": {},
     "output_type": "execute_result"
    }
   ],
   "source": [
    "submission = pd.read_csv(\"submission.csv\")\n",
    "submission.head()"
   ]
  }
 ],
 "metadata": {
  "kernelspec": {
   "display_name": "Python 3",
   "language": "python",
   "name": "python3"
  },
  "language_info": {
   "codemirror_mode": {
    "name": "ipython",
    "version": 3
   },
   "file_extension": ".py",
   "mimetype": "text/x-python",
   "name": "python",
   "nbconvert_exporter": "python",
   "pygments_lexer": "ipython3",
   "version": "3.7.12"
  },
  "papermill": {
   "default_parameters": {},
   "duration": 13.424388,
   "end_time": "2023-01-29T10:55:57.015063",
   "environment_variables": {},
   "exception": null,
   "input_path": "__notebook__.ipynb",
   "output_path": "__notebook__.ipynb",
   "parameters": {},
   "start_time": "2023-01-29T10:55:43.590675",
   "version": "2.3.4"
  }
 },
 "nbformat": 4,
 "nbformat_minor": 5
}
